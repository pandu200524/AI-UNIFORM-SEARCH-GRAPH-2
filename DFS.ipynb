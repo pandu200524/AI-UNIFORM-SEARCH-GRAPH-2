{
  "nbformat": 4,
  "nbformat_minor": 0,
  "metadata": {
    "colab": {
      "provenance": []
    },
    "kernelspec": {
      "name": "python3",
      "display_name": "Python 3"
    },
    "language_info": {
      "name": "python"
    }
  },
  "cells": [
    {
      "cell_type": "code",
      "execution_count": 6,
      "metadata": {
        "id": "DalQJ2I0Teof",
        "colab": {
          "base_uri": "https://localhost:8080/"
        },
        "outputId": "b3696c5e-0f41-4aa9-b97f-88907b71f7ed"
      },
      "outputs": [
        {
          "output_type": "stream",
          "name": "stdout",
          "text": [
            "\n",
            "DFS for Graph starting from 'a':\n",
            "a b f z e c d "
          ]
        }
      ],
      "source": [
        "def dfs(node, visited=set()):\n",
        "    graph = {\n",
        "        'a': ['b', 'c'],\n",
        "        'b': ['a', 'f', 'e'],\n",
        "        'c': ['a', 'd', 'e'],\n",
        "        'd': ['c', 'e'],\n",
        "        'e': ['b', 'c', 'd', 'z'],\n",
        "        'f': ['b', 'z'],\n",
        "        'z': ['e', 'f']\n",
        "    }\n",
        "\n",
        "    if node not in visited:\n",
        "        print(node, end=\" \")\n",
        "        visited.add(node)\n",
        "        for neighbor in graph[node]:\n",
        "            dfs(neighbor, visited)\n",
        "\n",
        "print(\"\\nDFS for Graph starting from 'a':\")\n",
        "dfs('a')\n"
      ]
    }
  ]
}