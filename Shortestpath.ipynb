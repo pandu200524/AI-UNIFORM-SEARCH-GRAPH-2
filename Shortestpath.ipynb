{
  "nbformat": 4,
  "nbformat_minor": 0,
  "metadata": {
    "colab": {
      "provenance": []
    },
    "kernelspec": {
      "name": "python3",
      "display_name": "Python 3"
    },
    "language_info": {
      "name": "python"
    }
  },
  "cells": [
    {
      "cell_type": "code",
      "execution_count": 4,
      "metadata": {
        "id": "DalQJ2I0Teof",
        "colab": {
          "base_uri": "https://localhost:8080/"
        },
        "outputId": "472b9810-07a4-4e9f-9982-d890714833af"
      },
      "outputs": [
        {
          "output_type": "stream",
          "name": "stdout",
          "text": [
            "Shortest path: ['a', 'c', 'd', 'e', 'z'] , Cost: 17\n"
          ]
        }
      ],
      "source": [
        "import heapq\n",
        "\n",
        "def dijkstra(graph, start, target):\n",
        "    pq = [(0, start)]\n",
        "    distances = {node: float('inf') for node in graph}\n",
        "    distances[start] = 0\n",
        "    parent = {start: None}\n",
        "\n",
        "    while pq:\n",
        "        curr_distance, curr_node = heapq.heappop(pq)\n",
        "\n",
        "        if curr_node == target:\n",
        "            path = []\n",
        "            while curr_node:\n",
        "                path.append(curr_node)\n",
        "                curr_node = parent[curr_node]\n",
        "            return path[::-1], distances[target]\n",
        "\n",
        "        for neighbor, weight in graph[curr_node].items():\n",
        "            distance = curr_distance + weight\n",
        "            if distance < distances[neighbor]:\n",
        "                distances[neighbor] = distance\n",
        "                heapq.heappush(pq, (distance, neighbor))\n",
        "                parent[neighbor] = curr_node\n",
        "\n",
        "    return None, float('inf')\n",
        "\n",
        "graph1 = {\n",
        "    'a': {'b': 4, 'c': 3},\n",
        "    'b': {'a': 4, 'f': 5, 'e': 12},\n",
        "    'c': {'a': 3, 'd': 7, 'e': 10},\n",
        "    'd': {'c': 7, 'e': 2},\n",
        "    'e': {'b': 12, 'c': 10, 'd': 2, 'z': 5},\n",
        "    'f': {'b': 5, 'z': 16},\n",
        "    'z': {'e': 5, 'f': 16}\n",
        "}\n",
        "\n",
        "source = 'a'\n",
        "target = 'z'\n",
        "shortest_path, cost = dijkstra(graph1, source, target)\n",
        "\n",
        "print(\"Shortest path:\", shortest_path, \", Cost:\", cost)\n"
      ]
    }
  ]
}