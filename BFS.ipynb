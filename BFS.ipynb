{
  "nbformat": 4,
  "nbformat_minor": 0,
  "metadata": {
    "colab": {
      "provenance": []
    },
    "kernelspec": {
      "name": "python3",
      "display_name": "Python 3"
    },
    "language_info": {
      "name": "python"
    }
  },
  "cells": [
    {
      "cell_type": "code",
      "execution_count": 5,
      "metadata": {
        "id": "DalQJ2I0Teof",
        "colab": {
          "base_uri": "https://localhost:8080/"
        },
        "outputId": "06ca8290-df06-40bb-e6ce-296adbad7441"
      },
      "outputs": [
        {
          "output_type": "stream",
          "name": "stdout",
          "text": [
            "BFS for Graph starting from 'a':\n",
            "a b c f e d z "
          ]
        }
      ],
      "source": [
        "from collections import deque\n",
        "\n",
        "def bfs(start):\n",
        "    graph = {\n",
        "        'a': ['b', 'c'],\n",
        "        'b': ['a', 'f', 'e'],\n",
        "        'c': ['a', 'd', 'e'],\n",
        "        'd': ['c', 'e'],\n",
        "        'e': ['b', 'c', 'd', 'z'],\n",
        "        'f': ['b', 'z'],\n",
        "        'z': ['e', 'f']\n",
        "    }\n",
        "\n",
        "    visited = set()\n",
        "    queue = deque([start])\n",
        "\n",
        "    while queue:\n",
        "        vertex = queue.popleft()\n",
        "        if vertex not in visited:\n",
        "            print(vertex, end=\" \")\n",
        "            visited.add(vertex)\n",
        "            queue.extend(neighbor for neighbor in graph[vertex] if neighbor not in visited)\n",
        "\n",
        "print(\"BFS for Graph starting from 'a':\")\n",
        "bfs('a')\n"
      ]
    }
  ]
}