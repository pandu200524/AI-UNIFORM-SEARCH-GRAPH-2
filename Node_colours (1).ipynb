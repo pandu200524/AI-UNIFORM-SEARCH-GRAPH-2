{
  "nbformat": 4,
  "nbformat_minor": 0,
  "metadata": {
    "colab": {
      "provenance": []
    },
    "kernelspec": {
      "name": "python3",
      "display_name": "Python 3"
    },
    "language_info": {
      "name": "python"
    }
  },
  "cells": [
    {
      "cell_type": "code",
      "execution_count": 2,
      "metadata": {
        "colab": {
          "base_uri": "https://localhost:8080/"
        },
        "id": "okMaKspiU8tH",
        "outputId": "240b1c64-ff61-425a-a2f0-ef5a08dea7a6"
      },
      "outputs": [
        {
          "output_type": "stream",
          "name": "stdout",
          "text": [
            "Graph 1 Node Coloring:\n",
            "Node a -> Red\n",
            "Node b -> Green\n",
            "Node c -> Green\n",
            "Node d -> Red\n",
            "Node e -> Blue\n",
            "Node f -> Red\n",
            "Node z -> Green\n"
          ]
        }
      ],
      "source": [
        "def is_safe(node, graph, color_assign, color):\n",
        "    return all(color_assign.get(neigh) != color for neigh in graph[node])\n",
        "\n",
        "def color_graph(graph, nodes, colors, idx=0, color_assign={}):\n",
        "    if idx == len(nodes):\n",
        "        return color_assign\n",
        "    node = nodes[idx]\n",
        "    for color in colors:\n",
        "        if is_safe(node, graph, color_assign, color):\n",
        "            color_assign[node] = color\n",
        "            result = color_graph(graph, nodes, colors, idx+1, color_assign)\n",
        "            if result:\n",
        "                return result\n",
        "            color_assign[node] = None\n",
        "    return None\n",
        "\n",
        "colors = ['Red', 'Green', 'Blue']\n",
        "\n",
        "graph1 = {\n",
        "    'a': ['b','c'],\n",
        "    'b': ['a','f','e'],\n",
        "    'c': ['a','d','e'],\n",
        "    'd': ['c','e'],\n",
        "    'e': ['b','c','d','z'],\n",
        "    'f': ['b','z'],\n",
        "    'z': ['e','f']\n",
        "}\n",
        "\n",
        "nodes_graph1 = ['a','b','c','d','e','f','z']\n",
        "coloring_result = color_graph(graph1, nodes_graph1, colors)\n",
        "\n",
        "print(\"Graph 1 Node Coloring:\")\n",
        "for node, color in coloring_result.items():\n",
        "    print(f\"Node {node} -> {color}\")\n"
      ]
    }
  ]
}