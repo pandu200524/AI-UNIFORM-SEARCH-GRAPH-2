{
  "nbformat": 4,
  "nbformat_minor": 0,
  "metadata": {
    "colab": {
      "provenance": []
    },
    "kernelspec": {
      "name": "python3",
      "display_name": "Python 3"
    },
    "language_info": {
      "name": "python"
    }
  },
  "cells": [
    {
      "cell_type": "code",
      "execution_count": 9,
      "metadata": {
        "id": "DalQJ2I0Teof",
        "colab": {
          "base_uri": "https://localhost:8080/"
        },
        "outputId": "47ea14db-57e3-4803-de9a-0ac7e6dc545f"
      },
      "outputs": [
        {
          "output_type": "stream",
          "name": "stdout",
          "text": [
            "Cycle detected in Graph\n"
          ]
        }
      ],
      "source": [
        "from collections import defaultdict\n",
        "\n",
        "def add_edge(graph, u, v):\n",
        "    graph[u].append(v)\n",
        "    graph[v].append(u)\n",
        "\n",
        "def detect_cycle_util(graph, node, visited, parent):\n",
        "    visited[node] = True\n",
        "    for neighbor in graph[node]:\n",
        "        if not visited[neighbor]:\n",
        "            if detect_cycle_util(graph, neighbor, visited, node):\n",
        "                return True\n",
        "        elif parent != neighbor:\n",
        "            return True\n",
        "    return False\n",
        "\n",
        "def detect_cycle(graph, nodes):\n",
        "    visited = {node: False for node in nodes}\n",
        "    for node in nodes:\n",
        "        if not visited[node]:\n",
        "            if detect_cycle_util(graph, node, visited, None):\n",
        "                return True\n",
        "    return False\n",
        "\n",
        "graph = defaultdict(list)\n",
        "edges = [('a','b'), ('a','c'), ('b','f'), ('b','e'), ('c','d'), ('c','e'), ('d','e'), ('e','z'), ('f','z')]\n",
        "for u, v in edges:\n",
        "    add_edge(graph, u, v)\n",
        "\n",
        "print(\"Cycle detected in Graph\" if detect_cycle(graph, graph.keys()) else \"No cycle in Graph\")\n"
      ]
    }
  ]
}